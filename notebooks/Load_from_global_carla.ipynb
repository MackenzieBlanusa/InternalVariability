{
 "cells": [
  {
   "cell_type": "code",
   "execution_count": 1,
   "id": "5910cd0b",
   "metadata": {
    "Collapsed": "false"
   },
   "outputs": [],
   "source": [
    "%load_ext autoreload\n",
    "%autoreload 2"
   ]
  },
  {
   "cell_type": "code",
   "execution_count": 2,
   "id": "f9673257",
   "metadata": {
    "Collapsed": "false"
   },
   "outputs": [],
   "source": [
    "import xarray as xr\n",
    "import numpy as np\n",
    "import matplotlib.pyplot as plt \n",
    "import pandas as pd\n",
    "import intake \n",
    "import pprint\n",
    "import cftime \n",
    "import psutil\n",
    "import xesmf as xe"
   ]
  },
  {
   "cell_type": "code",
   "execution_count": 3,
   "id": "8ce3692a",
   "metadata": {},
   "outputs": [],
   "source": [
    "regions_dict = {\n",
    "    'USeast': {'lat': 41.3, 'lon': -72.5},\n",
    "    'USwest':  {'lat': 37.7, 'lon': -122.4, },\n",
    "    'iceland':  {'lat': 65, 'lon': -19},\n",
    "    'europe':  {'lat': 51, 'lon': 10.5},\n",
    "    'australia': {'lat': -25.2, 'lon': 133.7},\n",
    "    'tropics': {'lat': 3.9, 'lon': -53.1}\n",
    "}"
   ]
  },
  {
   "cell_type": "code",
   "execution_count": 4,
   "id": "c30dd901",
   "metadata": {
    "Collapsed": "false"
   },
   "outputs": [],
   "source": [
    "from src.multi_model_large_ensemble import MultiModelLargeEnsemble"
   ]
  },
  {
   "cell_type": "code",
   "execution_count": 5,
   "id": "189648b8",
   "metadata": {
    "Collapsed": "false"
   },
   "outputs": [],
   "source": [
    "mmle = MultiModelLargeEnsemble(['MIROC6', 'cesm_lens', 'CanESM5', 'MPI-ESM1-2-LR', 'EC-Earth3'], 'tasmax', 'day', \n",
    "                               lat= -25.2, lon=133.7, \n",
    "                               bucket='climateai_data_repository', path='tmp/global_cmip_2.5deg')"
   ]
  },
  {
   "cell_type": "code",
   "execution_count": 6,
   "id": "4adc7f1a",
   "metadata": {},
   "outputs": [],
   "source": [
    "region = 'australia'\n",
    "mmle_qdm = MultiModelLargeEnsemble(['MIROC6', 'cesm_lens', 'CanESM5', 'MPI-ESM1-2-LR', 'EC-Earth3'], 'tasmax', 'day', \n",
    "                               lat= -25.2, lon=133.7, \n",
    "                               bucket='climateai_data_repository', path=f'tmp/qdm_{region}')"
   ]
  },
  {
   "cell_type": "code",
   "execution_count": 8,
   "id": "45e2255c",
   "metadata": {},
   "outputs": [
    {
     "name": "stdout",
     "output_type": "stream",
     "text": [
      "File not found, computing new\n"
     ]
    },
    {
     "name": "stderr",
     "output_type": "stream",
     "text": [
      "100%|██████████| 1/1 [00:09<00:00,  9.76s/it]"
     ]
    },
    {
     "name": "stdout",
     "output_type": "stream",
     "text": [
      "3.0620956420898438\n"
     ]
    },
    {
     "name": "stderr",
     "output_type": "stream",
     "text": [
      "\n",
      "\u001b[A"
     ]
    },
    {
     "name": "stdout",
     "output_type": "stream",
     "text": [
      "3.105175018310547\n"
     ]
    },
    {
     "name": "stderr",
     "output_type": "stream",
     "text": [
      "\n",
      "\u001b[A\n",
      "\n",
      "\u001b[A\u001b[A"
     ]
    },
    {
     "name": "stdout",
     "output_type": "stream",
     "text": [
      "3.1138877868652344\n"
     ]
    },
    {
     "name": "stderr",
     "output_type": "stream",
     "text": [
      "\n",
      "\n",
      "\u001b[A\u001b[A\n",
      "\n",
      "\n",
      "\u001b[A\u001b[A\u001b[A"
     ]
    },
    {
     "name": "stdout",
     "output_type": "stream",
     "text": [
      "3.0929222106933594\n"
     ]
    },
    {
     "name": "stderr",
     "output_type": "stream",
     "text": [
      "/opt/conda/envs/carla/lib/python3.9/site-packages/dask/utils.py:35: RuntimeWarning: All-NaN slice encountered\n",
      "  return func(*args, **kwargs)\n",
      "/opt/conda/envs/carla/lib/python3.9/site-packages/dask/core.py:121: RuntimeWarning: All-NaN slice encountered\n",
      "  return func(*(_execute_task(a, cache) for a in args))\n",
      "\n",
      "\n",
      "\n",
      "\u001b[A\u001b[A\u001b[A"
     ]
    },
    {
     "name": "stdout",
     "output_type": "stream",
     "text": [
      "3.109630584716797\n"
     ]
    }
   ],
   "source": [
    "mmle.compute_x(x_type='quantile_return', load=True, return_period=10, hist_slice=slice('2005', '2014'))"
   ]
  },
  {
   "cell_type": "code",
   "execution_count": 11,
   "id": "a0af0f5f",
   "metadata": {},
   "outputs": [
    {
     "name": "stderr",
     "output_type": "stream",
     "text": [
      "\n",
      "\n",
      "\n",
      "\n",
      "\u001b[A\u001b[A\u001b[A\u001b[A"
     ]
    },
    {
     "name": "stdout",
     "output_type": "stream",
     "text": [
      "File not found, computing new\n"
     ]
    },
    {
     "name": "stderr",
     "output_type": "stream",
     "text": [
      "\n",
      "\n",
      "\n",
      "\n",
      "\u001b[A\u001b[A\u001b[A\u001b[A\n",
      "\n",
      "\n",
      "\n",
      "\n",
      "\u001b[A\u001b[A\u001b[A\u001b[A\u001b[A"
     ]
    },
    {
     "name": "stdout",
     "output_type": "stream",
     "text": [
      "3.1913909912109375\n"
     ]
    },
    {
     "name": "stderr",
     "output_type": "stream",
     "text": [
      "\n",
      "\n",
      "\n",
      "\n",
      "\n",
      "\u001b[A\u001b[A\u001b[A\u001b[A\u001b[A\n",
      "\n",
      "\n",
      "\n",
      "\n",
      "\n",
      "\u001b[A\u001b[A\u001b[A\u001b[A\u001b[A\u001b[A"
     ]
    },
    {
     "name": "stdout",
     "output_type": "stream",
     "text": [
      "3.152751922607422\n"
     ]
    },
    {
     "name": "stderr",
     "output_type": "stream",
     "text": [
      "\n",
      "\n",
      "\n",
      "\n",
      "\n",
      "\n",
      "\u001b[A\u001b[A\u001b[A\u001b[A\u001b[A\u001b[A\n",
      "\n",
      "\n",
      "\n",
      "\n",
      "\n",
      "\n",
      "\u001b[A\u001b[A\u001b[A\u001b[A\u001b[A\u001b[A\u001b[A"
     ]
    },
    {
     "name": "stdout",
     "output_type": "stream",
     "text": [
      "3.123340606689453\n"
     ]
    },
    {
     "name": "stderr",
     "output_type": "stream",
     "text": [
      "\n",
      "\n",
      "\n",
      "\n",
      "\n",
      "\n",
      "\n",
      "100%|██████████| 1/1 [00:00<00:00,  1.48it/s]\n",
      "\n",
      "\n",
      "\n",
      "\n",
      "\n",
      "\n",
      "\n",
      "\u001b[A\u001b[A\u001b[A\u001b[A\u001b[A\u001b[A\u001b[A"
     ]
    },
    {
     "name": "stdout",
     "output_type": "stream",
     "text": [
      "3.143199920654297\n"
     ]
    },
    {
     "name": "stderr",
     "output_type": "stream",
     "text": [
      "/opt/conda/envs/carla/lib/python3.9/site-packages/dask/utils.py:35: RuntimeWarning: All-NaN slice encountered\n",
      "  return func(*args, **kwargs)\n",
      "/opt/conda/envs/carla/lib/python3.9/site-packages/dask/core.py:121: RuntimeWarning: All-NaN slice encountered\n",
      "  return func(*(_execute_task(a, cache) for a in args))\n",
      "\n",
      "\n",
      "\n",
      "\n",
      "\n",
      "\n",
      "\n",
      "\u001b[A\u001b[A\u001b[A\u001b[A\u001b[A\u001b[A\u001b[A"
     ]
    },
    {
     "name": "stdout",
     "output_type": "stream",
     "text": [
      "3.1509361267089844\n"
     ]
    }
   ],
   "source": [
    "mmle_qdm.compute_x(x_type='quantile_return', load=True, return_period=10, hist_slice=slice('2005', '2014'))"
   ]
  },
  {
   "cell_type": "code",
   "execution_count": 9,
   "id": "670886dc",
   "metadata": {
    "Collapsed": "false"
   },
   "outputs": [
    {
     "name": "stderr",
     "output_type": "stream",
     "text": [
      "/opt/conda/envs/carla/lib/python3.9/site-packages/xarray/core/nputils.py:155: RuntimeWarning: Degrees of freedom <= 0 for slice.\n",
      "  result = getattr(npmodule, name)(values, axis=axis, **kwargs)\n"
     ]
    }
   ],
   "source": [
    "mmle.compute_LE()"
   ]
  },
  {
   "cell_type": "code",
   "execution_count": 12,
   "id": "4d4c391a",
   "metadata": {},
   "outputs": [
    {
     "name": "stderr",
     "output_type": "stream",
     "text": [
      "/opt/conda/envs/carla/lib/python3.9/site-packages/xarray/core/nputils.py:155: RuntimeWarning: Degrees of freedom <= 0 for slice.\n",
      "  result = getattr(npmodule, name)(values, axis=axis, **kwargs)\n"
     ]
    }
   ],
   "source": [
    "mmle_qdm.compute_LE()"
   ]
  },
  {
   "cell_type": "code",
   "execution_count": 10,
   "id": "049a6f74",
   "metadata": {
    "Collapsed": "false"
   },
   "outputs": [
    {
     "data": {
      "text/html": [
       "<div><svg style=\"position: absolute; width: 0; height: 0; overflow: hidden\">\n",
       "<defs>\n",
       "<symbol id=\"icon-database\" viewBox=\"0 0 32 32\">\n",
       "<path d=\"M16 0c-8.837 0-16 2.239-16 5v4c0 2.761 7.163 5 16 5s16-2.239 16-5v-4c0-2.761-7.163-5-16-5z\"></path>\n",
       "<path d=\"M16 17c-8.837 0-16-2.239-16-5v6c0 2.761 7.163 5 16 5s16-2.239 16-5v-6c0 2.761-7.163 5-16 5z\"></path>\n",
       "<path d=\"M16 26c-8.837 0-16-2.239-16-5v6c0 2.761 7.163 5 16 5s16-2.239 16-5v-6c0 2.761-7.163 5-16 5z\"></path>\n",
       "</symbol>\n",
       "<symbol id=\"icon-file-text2\" viewBox=\"0 0 32 32\">\n",
       "<path d=\"M28.681 7.159c-0.694-0.947-1.662-2.053-2.724-3.116s-2.169-2.030-3.116-2.724c-1.612-1.182-2.393-1.319-2.841-1.319h-15.5c-1.378 0-2.5 1.121-2.5 2.5v27c0 1.378 1.122 2.5 2.5 2.5h23c1.378 0 2.5-1.122 2.5-2.5v-19.5c0-0.448-0.137-1.23-1.319-2.841zM24.543 5.457c0.959 0.959 1.712 1.825 2.268 2.543h-4.811v-4.811c0.718 0.556 1.584 1.309 2.543 2.268zM28 29.5c0 0.271-0.229 0.5-0.5 0.5h-23c-0.271 0-0.5-0.229-0.5-0.5v-27c0-0.271 0.229-0.5 0.5-0.5 0 0 15.499-0 15.5 0v7c0 0.552 0.448 1 1 1h7v19.5z\"></path>\n",
       "<path d=\"M23 26h-14c-0.552 0-1-0.448-1-1s0.448-1 1-1h14c0.552 0 1 0.448 1 1s-0.448 1-1 1z\"></path>\n",
       "<path d=\"M23 22h-14c-0.552 0-1-0.448-1-1s0.448-1 1-1h14c0.552 0 1 0.448 1 1s-0.448 1-1 1z\"></path>\n",
       "<path d=\"M23 18h-14c-0.552 0-1-0.448-1-1s0.448-1 1-1h14c0.552 0 1 0.448 1 1s-0.448 1-1 1z\"></path>\n",
       "</symbol>\n",
       "</defs>\n",
       "</svg>\n",
       "<style>/* CSS stylesheet for displaying xarray objects in jupyterlab.\n",
       " *\n",
       " */\n",
       "\n",
       ":root {\n",
       "  --xr-font-color0: var(--jp-content-font-color0, rgba(0, 0, 0, 1));\n",
       "  --xr-font-color2: var(--jp-content-font-color2, rgba(0, 0, 0, 0.54));\n",
       "  --xr-font-color3: var(--jp-content-font-color3, rgba(0, 0, 0, 0.38));\n",
       "  --xr-border-color: var(--jp-border-color2, #e0e0e0);\n",
       "  --xr-disabled-color: var(--jp-layout-color3, #bdbdbd);\n",
       "  --xr-background-color: var(--jp-layout-color0, white);\n",
       "  --xr-background-color-row-even: var(--jp-layout-color1, white);\n",
       "  --xr-background-color-row-odd: var(--jp-layout-color2, #eeeeee);\n",
       "}\n",
       "\n",
       "html[theme=dark],\n",
       "body.vscode-dark {\n",
       "  --xr-font-color0: rgba(255, 255, 255, 1);\n",
       "  --xr-font-color2: rgba(255, 255, 255, 0.54);\n",
       "  --xr-font-color3: rgba(255, 255, 255, 0.38);\n",
       "  --xr-border-color: #1F1F1F;\n",
       "  --xr-disabled-color: #515151;\n",
       "  --xr-background-color: #111111;\n",
       "  --xr-background-color-row-even: #111111;\n",
       "  --xr-background-color-row-odd: #313131;\n",
       "}\n",
       "\n",
       ".xr-wrap {\n",
       "  display: block !important;\n",
       "  min-width: 300px;\n",
       "  max-width: 700px;\n",
       "}\n",
       "\n",
       ".xr-text-repr-fallback {\n",
       "  /* fallback to plain text repr when CSS is not injected (untrusted notebook) */\n",
       "  display: none;\n",
       "}\n",
       "\n",
       ".xr-header {\n",
       "  padding-top: 6px;\n",
       "  padding-bottom: 6px;\n",
       "  margin-bottom: 4px;\n",
       "  border-bottom: solid 1px var(--xr-border-color);\n",
       "}\n",
       "\n",
       ".xr-header > div,\n",
       ".xr-header > ul {\n",
       "  display: inline;\n",
       "  margin-top: 0;\n",
       "  margin-bottom: 0;\n",
       "}\n",
       "\n",
       ".xr-obj-type,\n",
       ".xr-array-name {\n",
       "  margin-left: 2px;\n",
       "  margin-right: 10px;\n",
       "}\n",
       "\n",
       ".xr-obj-type {\n",
       "  color: var(--xr-font-color2);\n",
       "}\n",
       "\n",
       ".xr-sections {\n",
       "  padding-left: 0 !important;\n",
       "  display: grid;\n",
       "  grid-template-columns: 150px auto auto 1fr 20px 20px;\n",
       "}\n",
       "\n",
       ".xr-section-item {\n",
       "  display: contents;\n",
       "}\n",
       "\n",
       ".xr-section-item input {\n",
       "  display: none;\n",
       "}\n",
       "\n",
       ".xr-section-item input + label {\n",
       "  color: var(--xr-disabled-color);\n",
       "}\n",
       "\n",
       ".xr-section-item input:enabled + label {\n",
       "  cursor: pointer;\n",
       "  color: var(--xr-font-color2);\n",
       "}\n",
       "\n",
       ".xr-section-item input:enabled + label:hover {\n",
       "  color: var(--xr-font-color0);\n",
       "}\n",
       "\n",
       ".xr-section-summary {\n",
       "  grid-column: 1;\n",
       "  color: var(--xr-font-color2);\n",
       "  font-weight: 500;\n",
       "}\n",
       "\n",
       ".xr-section-summary > span {\n",
       "  display: inline-block;\n",
       "  padding-left: 0.5em;\n",
       "}\n",
       "\n",
       ".xr-section-summary-in:disabled + label {\n",
       "  color: var(--xr-font-color2);\n",
       "}\n",
       "\n",
       ".xr-section-summary-in + label:before {\n",
       "  display: inline-block;\n",
       "  content: '►';\n",
       "  font-size: 11px;\n",
       "  width: 15px;\n",
       "  text-align: center;\n",
       "}\n",
       "\n",
       ".xr-section-summary-in:disabled + label:before {\n",
       "  color: var(--xr-disabled-color);\n",
       "}\n",
       "\n",
       ".xr-section-summary-in:checked + label:before {\n",
       "  content: '▼';\n",
       "}\n",
       "\n",
       ".xr-section-summary-in:checked + label > span {\n",
       "  display: none;\n",
       "}\n",
       "\n",
       ".xr-section-summary,\n",
       ".xr-section-inline-details {\n",
       "  padding-top: 4px;\n",
       "  padding-bottom: 4px;\n",
       "}\n",
       "\n",
       ".xr-section-inline-details {\n",
       "  grid-column: 2 / -1;\n",
       "}\n",
       "\n",
       ".xr-section-details {\n",
       "  display: none;\n",
       "  grid-column: 1 / -1;\n",
       "  margin-bottom: 5px;\n",
       "}\n",
       "\n",
       ".xr-section-summary-in:checked ~ .xr-section-details {\n",
       "  display: contents;\n",
       "}\n",
       "\n",
       ".xr-array-wrap {\n",
       "  grid-column: 1 / -1;\n",
       "  display: grid;\n",
       "  grid-template-columns: 20px auto;\n",
       "}\n",
       "\n",
       ".xr-array-wrap > label {\n",
       "  grid-column: 1;\n",
       "  vertical-align: top;\n",
       "}\n",
       "\n",
       ".xr-preview {\n",
       "  color: var(--xr-font-color3);\n",
       "}\n",
       "\n",
       ".xr-array-preview,\n",
       ".xr-array-data {\n",
       "  padding: 0 5px !important;\n",
       "  grid-column: 2;\n",
       "}\n",
       "\n",
       ".xr-array-data,\n",
       ".xr-array-in:checked ~ .xr-array-preview {\n",
       "  display: none;\n",
       "}\n",
       "\n",
       ".xr-array-in:checked ~ .xr-array-data,\n",
       ".xr-array-preview {\n",
       "  display: inline-block;\n",
       "}\n",
       "\n",
       ".xr-dim-list {\n",
       "  display: inline-block !important;\n",
       "  list-style: none;\n",
       "  padding: 0 !important;\n",
       "  margin: 0;\n",
       "}\n",
       "\n",
       ".xr-dim-list li {\n",
       "  display: inline-block;\n",
       "  padding: 0;\n",
       "  margin: 0;\n",
       "}\n",
       "\n",
       ".xr-dim-list:before {\n",
       "  content: '(';\n",
       "}\n",
       "\n",
       ".xr-dim-list:after {\n",
       "  content: ')';\n",
       "}\n",
       "\n",
       ".xr-dim-list li:not(:last-child):after {\n",
       "  content: ',';\n",
       "  padding-right: 5px;\n",
       "}\n",
       "\n",
       ".xr-has-index {\n",
       "  font-weight: bold;\n",
       "}\n",
       "\n",
       ".xr-var-list,\n",
       ".xr-var-item {\n",
       "  display: contents;\n",
       "}\n",
       "\n",
       ".xr-var-item > div,\n",
       ".xr-var-item label,\n",
       ".xr-var-item > .xr-var-name span {\n",
       "  background-color: var(--xr-background-color-row-even);\n",
       "  margin-bottom: 0;\n",
       "}\n",
       "\n",
       ".xr-var-item > .xr-var-name:hover span {\n",
       "  padding-right: 5px;\n",
       "}\n",
       "\n",
       ".xr-var-list > li:nth-child(odd) > div,\n",
       ".xr-var-list > li:nth-child(odd) > label,\n",
       ".xr-var-list > li:nth-child(odd) > .xr-var-name span {\n",
       "  background-color: var(--xr-background-color-row-odd);\n",
       "}\n",
       "\n",
       ".xr-var-name {\n",
       "  grid-column: 1;\n",
       "}\n",
       "\n",
       ".xr-var-dims {\n",
       "  grid-column: 2;\n",
       "}\n",
       "\n",
       ".xr-var-dtype {\n",
       "  grid-column: 3;\n",
       "  text-align: right;\n",
       "  color: var(--xr-font-color2);\n",
       "}\n",
       "\n",
       ".xr-var-preview {\n",
       "  grid-column: 4;\n",
       "}\n",
       "\n",
       ".xr-var-name,\n",
       ".xr-var-dims,\n",
       ".xr-var-dtype,\n",
       ".xr-preview,\n",
       ".xr-attrs dt {\n",
       "  white-space: nowrap;\n",
       "  overflow: hidden;\n",
       "  text-overflow: ellipsis;\n",
       "  padding-right: 10px;\n",
       "}\n",
       "\n",
       ".xr-var-name:hover,\n",
       ".xr-var-dims:hover,\n",
       ".xr-var-dtype:hover,\n",
       ".xr-attrs dt:hover {\n",
       "  overflow: visible;\n",
       "  width: auto;\n",
       "  z-index: 1;\n",
       "}\n",
       "\n",
       ".xr-var-attrs,\n",
       ".xr-var-data {\n",
       "  display: none;\n",
       "  background-color: var(--xr-background-color) !important;\n",
       "  padding-bottom: 5px !important;\n",
       "}\n",
       "\n",
       ".xr-var-attrs-in:checked ~ .xr-var-attrs,\n",
       ".xr-var-data-in:checked ~ .xr-var-data {\n",
       "  display: block;\n",
       "}\n",
       "\n",
       ".xr-var-data > table {\n",
       "  float: right;\n",
       "}\n",
       "\n",
       ".xr-var-name span,\n",
       ".xr-var-data,\n",
       ".xr-attrs {\n",
       "  padding-left: 25px !important;\n",
       "}\n",
       "\n",
       ".xr-attrs,\n",
       ".xr-var-attrs,\n",
       ".xr-var-data {\n",
       "  grid-column: 1 / -1;\n",
       "}\n",
       "\n",
       "dl.xr-attrs {\n",
       "  padding: 0;\n",
       "  margin: 0;\n",
       "  display: grid;\n",
       "  grid-template-columns: 125px auto;\n",
       "}\n",
       "\n",
       ".xr-attrs dt,\n",
       ".xr-attrs dd {\n",
       "  padding: 0;\n",
       "  margin: 0;\n",
       "  float: left;\n",
       "  padding-right: 10px;\n",
       "  width: auto;\n",
       "}\n",
       "\n",
       ".xr-attrs dt {\n",
       "  font-weight: normal;\n",
       "  grid-column: 1;\n",
       "}\n",
       "\n",
       ".xr-attrs dt:hover span {\n",
       "  display: inline-block;\n",
       "  background: var(--xr-background-color);\n",
       "  padding-right: 10px;\n",
       "}\n",
       "\n",
       ".xr-attrs dd {\n",
       "  grid-column: 2;\n",
       "  white-space: pre-wrap;\n",
       "  word-break: break-all;\n",
       "}\n",
       "\n",
       ".xr-icon-database,\n",
       ".xr-icon-file-text2 {\n",
       "  display: inline-block;\n",
       "  vertical-align: middle;\n",
       "  width: 1em;\n",
       "  height: 1.5em !important;\n",
       "  stroke-width: 0;\n",
       "  stroke: currentColor;\n",
       "  fill: currentColor;\n",
       "}\n",
       "</style><pre class='xr-text-repr-fallback'>&lt;xarray.Dataset&gt;\n",
       "Dimensions:   (time: 96, lat: 1, lon: 1, model: 5)\n",
       "Coordinates:\n",
       "  * time      (time) datetime64[ns] 2005-01-01 2006-01-01 ... 2100-01-01\n",
       "  * lat       (lat) float64 -25.0\n",
       "  * lon       (lon) float64 132.5\n",
       "  * model     (model) &lt;U13 &#x27;MIROC6&#x27; &#x27;cesm_lens&#x27; ... &#x27;MPI-ESM1-2-LR&#x27; &#x27;EC-Earth3&#x27;\n",
       "    quantile  (model) float64 0.9997 0.9997 0.9997 0.9997 0.9997\n",
       "    q_values  (model, lat, lon) float64 331.4 315.7 326.0 318.8 318.8\n",
       "Data variables:\n",
       "    M_LE      (time, lat, lon) float64 nan nan nan nan nan ... nan nan nan nan\n",
       "    I_LE      (model, time, lat, lon) float64 nan nan nan nan ... nan nan nan\n",
       "    Ibar_LE   (time, lat, lon) float64 nan nan nan nan nan ... nan nan nan nan\n",
       "    T_LE      (time, lat, lon) float64 nan nan nan nan nan ... nan nan nan nan</pre><div class='xr-wrap' style='display:none'><div class='xr-header'><div class='xr-obj-type'>xarray.Dataset</div></div><ul class='xr-sections'><li class='xr-section-item'><input id='section-5e2b7ed1-5880-418a-837a-eefbc23d725a' class='xr-section-summary-in' type='checkbox' disabled ><label for='section-5e2b7ed1-5880-418a-837a-eefbc23d725a' class='xr-section-summary'  title='Expand/collapse section'>Dimensions:</label><div class='xr-section-inline-details'><ul class='xr-dim-list'><li><span class='xr-has-index'>time</span>: 96</li><li><span class='xr-has-index'>lat</span>: 1</li><li><span class='xr-has-index'>lon</span>: 1</li><li><span class='xr-has-index'>model</span>: 5</li></ul></div><div class='xr-section-details'></div></li><li class='xr-section-item'><input id='section-ccdf47ce-cf02-48a6-a52f-e8bf2c3da1ea' class='xr-section-summary-in' type='checkbox'  checked><label for='section-ccdf47ce-cf02-48a6-a52f-e8bf2c3da1ea' class='xr-section-summary' >Coordinates: <span>(6)</span></label><div class='xr-section-inline-details'></div><div class='xr-section-details'><ul class='xr-var-list'><li class='xr-var-item'><div class='xr-var-name'><span class='xr-has-index'>time</span></div><div class='xr-var-dims'>(time)</div><div class='xr-var-dtype'>datetime64[ns]</div><div class='xr-var-preview xr-preview'>2005-01-01 ... 2100-01-01</div><input id='attrs-2c1dc5c2-e9c8-4904-acda-119140eeca50' class='xr-var-attrs-in' type='checkbox' disabled><label for='attrs-2c1dc5c2-e9c8-4904-acda-119140eeca50' title='Show/Hide attributes'><svg class='icon xr-icon-file-text2'><use xlink:href='#icon-file-text2'></use></svg></label><input id='data-d0384188-98c9-4f69-a221-0891027fbfb4' class='xr-var-data-in' type='checkbox'><label for='data-d0384188-98c9-4f69-a221-0891027fbfb4' title='Show/Hide data repr'><svg class='icon xr-icon-database'><use xlink:href='#icon-database'></use></svg></label><div class='xr-var-attrs'><dl class='xr-attrs'></dl></div><div class='xr-var-data'><pre>array([&#x27;2005-01-01T00:00:00.000000000&#x27;, &#x27;2006-01-01T00:00:00.000000000&#x27;,\n",
       "       &#x27;2007-01-01T00:00:00.000000000&#x27;, &#x27;2008-01-01T00:00:00.000000000&#x27;,\n",
       "       &#x27;2009-01-01T00:00:00.000000000&#x27;, &#x27;2010-01-01T00:00:00.000000000&#x27;,\n",
       "       &#x27;2011-01-01T00:00:00.000000000&#x27;, &#x27;2012-01-01T00:00:00.000000000&#x27;,\n",
       "       &#x27;2013-01-01T00:00:00.000000000&#x27;, &#x27;2014-01-01T00:00:00.000000000&#x27;,\n",
       "       &#x27;2015-01-01T00:00:00.000000000&#x27;, &#x27;2016-01-01T00:00:00.000000000&#x27;,\n",
       "       &#x27;2017-01-01T00:00:00.000000000&#x27;, &#x27;2018-01-01T00:00:00.000000000&#x27;,\n",
       "       &#x27;2019-01-01T00:00:00.000000000&#x27;, &#x27;2020-01-01T00:00:00.000000000&#x27;,\n",
       "       &#x27;2021-01-01T00:00:00.000000000&#x27;, &#x27;2022-01-01T00:00:00.000000000&#x27;,\n",
       "       &#x27;2023-01-01T00:00:00.000000000&#x27;, &#x27;2024-01-01T00:00:00.000000000&#x27;,\n",
       "       &#x27;2025-01-01T00:00:00.000000000&#x27;, &#x27;2026-01-01T00:00:00.000000000&#x27;,\n",
       "       &#x27;2027-01-01T00:00:00.000000000&#x27;, &#x27;2028-01-01T00:00:00.000000000&#x27;,\n",
       "       &#x27;2029-01-01T00:00:00.000000000&#x27;, &#x27;2030-01-01T00:00:00.000000000&#x27;,\n",
       "       &#x27;2031-01-01T00:00:00.000000000&#x27;, &#x27;2032-01-01T00:00:00.000000000&#x27;,\n",
       "       &#x27;2033-01-01T00:00:00.000000000&#x27;, &#x27;2034-01-01T00:00:00.000000000&#x27;,\n",
       "       &#x27;2035-01-01T00:00:00.000000000&#x27;, &#x27;2036-01-01T00:00:00.000000000&#x27;,\n",
       "       &#x27;2037-01-01T00:00:00.000000000&#x27;, &#x27;2038-01-01T00:00:00.000000000&#x27;,\n",
       "       &#x27;2039-01-01T00:00:00.000000000&#x27;, &#x27;2040-01-01T00:00:00.000000000&#x27;,\n",
       "       &#x27;2041-01-01T00:00:00.000000000&#x27;, &#x27;2042-01-01T00:00:00.000000000&#x27;,\n",
       "       &#x27;2043-01-01T00:00:00.000000000&#x27;, &#x27;2044-01-01T00:00:00.000000000&#x27;,\n",
       "       &#x27;2045-01-01T00:00:00.000000000&#x27;, &#x27;2046-01-01T00:00:00.000000000&#x27;,\n",
       "       &#x27;2047-01-01T00:00:00.000000000&#x27;, &#x27;2048-01-01T00:00:00.000000000&#x27;,\n",
       "       &#x27;2049-01-01T00:00:00.000000000&#x27;, &#x27;2050-01-01T00:00:00.000000000&#x27;,\n",
       "       &#x27;2051-01-01T00:00:00.000000000&#x27;, &#x27;2052-01-01T00:00:00.000000000&#x27;,\n",
       "       &#x27;2053-01-01T00:00:00.000000000&#x27;, &#x27;2054-01-01T00:00:00.000000000&#x27;,\n",
       "       &#x27;2055-01-01T00:00:00.000000000&#x27;, &#x27;2056-01-01T00:00:00.000000000&#x27;,\n",
       "       &#x27;2057-01-01T00:00:00.000000000&#x27;, &#x27;2058-01-01T00:00:00.000000000&#x27;,\n",
       "       &#x27;2059-01-01T00:00:00.000000000&#x27;, &#x27;2060-01-01T00:00:00.000000000&#x27;,\n",
       "       &#x27;2061-01-01T00:00:00.000000000&#x27;, &#x27;2062-01-01T00:00:00.000000000&#x27;,\n",
       "       &#x27;2063-01-01T00:00:00.000000000&#x27;, &#x27;2064-01-01T00:00:00.000000000&#x27;,\n",
       "       &#x27;2065-01-01T00:00:00.000000000&#x27;, &#x27;2066-01-01T00:00:00.000000000&#x27;,\n",
       "       &#x27;2067-01-01T00:00:00.000000000&#x27;, &#x27;2068-01-01T00:00:00.000000000&#x27;,\n",
       "       &#x27;2069-01-01T00:00:00.000000000&#x27;, &#x27;2070-01-01T00:00:00.000000000&#x27;,\n",
       "       &#x27;2071-01-01T00:00:00.000000000&#x27;, &#x27;2072-01-01T00:00:00.000000000&#x27;,\n",
       "       &#x27;2073-01-01T00:00:00.000000000&#x27;, &#x27;2074-01-01T00:00:00.000000000&#x27;,\n",
       "       &#x27;2075-01-01T00:00:00.000000000&#x27;, &#x27;2076-01-01T00:00:00.000000000&#x27;,\n",
       "       &#x27;2077-01-01T00:00:00.000000000&#x27;, &#x27;2078-01-01T00:00:00.000000000&#x27;,\n",
       "       &#x27;2079-01-01T00:00:00.000000000&#x27;, &#x27;2080-01-01T00:00:00.000000000&#x27;,\n",
       "       &#x27;2081-01-01T00:00:00.000000000&#x27;, &#x27;2082-01-01T00:00:00.000000000&#x27;,\n",
       "       &#x27;2083-01-01T00:00:00.000000000&#x27;, &#x27;2084-01-01T00:00:00.000000000&#x27;,\n",
       "       &#x27;2085-01-01T00:00:00.000000000&#x27;, &#x27;2086-01-01T00:00:00.000000000&#x27;,\n",
       "       &#x27;2087-01-01T00:00:00.000000000&#x27;, &#x27;2088-01-01T00:00:00.000000000&#x27;,\n",
       "       &#x27;2089-01-01T00:00:00.000000000&#x27;, &#x27;2090-01-01T00:00:00.000000000&#x27;,\n",
       "       &#x27;2091-01-01T00:00:00.000000000&#x27;, &#x27;2092-01-01T00:00:00.000000000&#x27;,\n",
       "       &#x27;2093-01-01T00:00:00.000000000&#x27;, &#x27;2094-01-01T00:00:00.000000000&#x27;,\n",
       "       &#x27;2095-01-01T00:00:00.000000000&#x27;, &#x27;2096-01-01T00:00:00.000000000&#x27;,\n",
       "       &#x27;2097-01-01T00:00:00.000000000&#x27;, &#x27;2098-01-01T00:00:00.000000000&#x27;,\n",
       "       &#x27;2099-01-01T00:00:00.000000000&#x27;, &#x27;2100-01-01T00:00:00.000000000&#x27;],\n",
       "      dtype=&#x27;datetime64[ns]&#x27;)</pre></div></li><li class='xr-var-item'><div class='xr-var-name'><span class='xr-has-index'>lat</span></div><div class='xr-var-dims'>(lat)</div><div class='xr-var-dtype'>float64</div><div class='xr-var-preview xr-preview'>-25.0</div><input id='attrs-d9e33898-489c-4428-88ab-4200aebd60ea' class='xr-var-attrs-in' type='checkbox' disabled><label for='attrs-d9e33898-489c-4428-88ab-4200aebd60ea' title='Show/Hide attributes'><svg class='icon xr-icon-file-text2'><use xlink:href='#icon-file-text2'></use></svg></label><input id='data-405fe052-9455-4c62-94cc-421d45c59127' class='xr-var-data-in' type='checkbox'><label for='data-405fe052-9455-4c62-94cc-421d45c59127' title='Show/Hide data repr'><svg class='icon xr-icon-database'><use xlink:href='#icon-database'></use></svg></label><div class='xr-var-attrs'><dl class='xr-attrs'></dl></div><div class='xr-var-data'><pre>array([-25.])</pre></div></li><li class='xr-var-item'><div class='xr-var-name'><span class='xr-has-index'>lon</span></div><div class='xr-var-dims'>(lon)</div><div class='xr-var-dtype'>float64</div><div class='xr-var-preview xr-preview'>132.5</div><input id='attrs-7ae27b3f-32c4-4d24-869b-051cd2dd7c57' class='xr-var-attrs-in' type='checkbox' disabled><label for='attrs-7ae27b3f-32c4-4d24-869b-051cd2dd7c57' title='Show/Hide attributes'><svg class='icon xr-icon-file-text2'><use xlink:href='#icon-file-text2'></use></svg></label><input id='data-20758728-49b0-4b7a-82bc-c4c626551404' class='xr-var-data-in' type='checkbox'><label for='data-20758728-49b0-4b7a-82bc-c4c626551404' title='Show/Hide data repr'><svg class='icon xr-icon-database'><use xlink:href='#icon-database'></use></svg></label><div class='xr-var-attrs'><dl class='xr-attrs'></dl></div><div class='xr-var-data'><pre>array([132.5])</pre></div></li><li class='xr-var-item'><div class='xr-var-name'><span class='xr-has-index'>model</span></div><div class='xr-var-dims'>(model)</div><div class='xr-var-dtype'>&lt;U13</div><div class='xr-var-preview xr-preview'>&#x27;MIROC6&#x27; ... &#x27;EC-Earth3&#x27;</div><input id='attrs-1ea23e67-a6d8-4563-b45c-df67e4afe8ab' class='xr-var-attrs-in' type='checkbox' disabled><label for='attrs-1ea23e67-a6d8-4563-b45c-df67e4afe8ab' title='Show/Hide attributes'><svg class='icon xr-icon-file-text2'><use xlink:href='#icon-file-text2'></use></svg></label><input id='data-5536518e-d88f-4b22-9d1c-edba62c7cb05' class='xr-var-data-in' type='checkbox'><label for='data-5536518e-d88f-4b22-9d1c-edba62c7cb05' title='Show/Hide data repr'><svg class='icon xr-icon-database'><use xlink:href='#icon-database'></use></svg></label><div class='xr-var-attrs'><dl class='xr-attrs'></dl></div><div class='xr-var-data'><pre>array([&#x27;MIROC6&#x27;, &#x27;cesm_lens&#x27;, &#x27;CanESM5&#x27;, &#x27;MPI-ESM1-2-LR&#x27;, &#x27;EC-Earth3&#x27;],\n",
       "      dtype=&#x27;&lt;U13&#x27;)</pre></div></li><li class='xr-var-item'><div class='xr-var-name'><span>quantile</span></div><div class='xr-var-dims'>(model)</div><div class='xr-var-dtype'>float64</div><div class='xr-var-preview xr-preview'>0.9997 0.9997 0.9997 0.9997 0.9997</div><input id='attrs-75c73510-ccda-467c-9d3a-921bc6e29730' class='xr-var-attrs-in' type='checkbox' disabled><label for='attrs-75c73510-ccda-467c-9d3a-921bc6e29730' title='Show/Hide attributes'><svg class='icon xr-icon-file-text2'><use xlink:href='#icon-file-text2'></use></svg></label><input id='data-f75f093d-4c80-4bc2-bb16-9891cfc6133c' class='xr-var-data-in' type='checkbox'><label for='data-f75f093d-4c80-4bc2-bb16-9891cfc6133c' title='Show/Hide data repr'><svg class='icon xr-icon-database'><use xlink:href='#icon-database'></use></svg></label><div class='xr-var-attrs'><dl class='xr-attrs'></dl></div><div class='xr-var-data'><pre>array([0.99972618, 0.99972603, 0.99972603, 0.99972618, 0.99972618])</pre></div></li><li class='xr-var-item'><div class='xr-var-name'><span>q_values</span></div><div class='xr-var-dims'>(model, lat, lon)</div><div class='xr-var-dtype'>float64</div><div class='xr-var-preview xr-preview'>331.4 315.7 326.0 318.8 318.8</div><input id='attrs-09875e9a-64e2-4398-b1c2-6eb11d7747c2' class='xr-var-attrs-in' type='checkbox' disabled><label for='attrs-09875e9a-64e2-4398-b1c2-6eb11d7747c2' title='Show/Hide attributes'><svg class='icon xr-icon-file-text2'><use xlink:href='#icon-file-text2'></use></svg></label><input id='data-86430b75-1a83-463a-a18f-3f1e58cfe294' class='xr-var-data-in' type='checkbox'><label for='data-86430b75-1a83-463a-a18f-3f1e58cfe294' title='Show/Hide data repr'><svg class='icon xr-icon-database'><use xlink:href='#icon-database'></use></svg></label><div class='xr-var-attrs'><dl class='xr-attrs'></dl></div><div class='xr-var-data'><pre>array([[[331.43976413]],\n",
       "\n",
       "       [[315.68450835]],\n",
       "\n",
       "       [[326.04185163]],\n",
       "\n",
       "       [[318.78045152]],\n",
       "\n",
       "       [[318.84299798]]])</pre></div></li></ul></div></li><li class='xr-section-item'><input id='section-75344bf8-d4ca-42b0-acb8-82a67ce9eb70' class='xr-section-summary-in' type='checkbox'  checked><label for='section-75344bf8-d4ca-42b0-acb8-82a67ce9eb70' class='xr-section-summary' >Data variables: <span>(4)</span></label><div class='xr-section-inline-details'></div><div class='xr-section-details'><ul class='xr-var-list'><li class='xr-var-item'><div class='xr-var-name'><span>M_LE</span></div><div class='xr-var-dims'>(time, lat, lon)</div><div class='xr-var-dtype'>float64</div><div class='xr-var-preview xr-preview'>nan nan nan nan ... nan nan nan nan</div><input id='attrs-c400d6d7-7fc7-4c28-bdc6-a6c2f2ff27d5' class='xr-var-attrs-in' type='checkbox' disabled><label for='attrs-c400d6d7-7fc7-4c28-bdc6-a6c2f2ff27d5' title='Show/Hide attributes'><svg class='icon xr-icon-file-text2'><use xlink:href='#icon-file-text2'></use></svg></label><input id='data-92b061f9-e941-4ae3-a8cc-e00e7c557eb9' class='xr-var-data-in' type='checkbox'><label for='data-92b061f9-e941-4ae3-a8cc-e00e7c557eb9' title='Show/Hide data repr'><svg class='icon xr-icon-database'><use xlink:href='#icon-database'></use></svg></label><div class='xr-var-attrs'><dl class='xr-attrs'></dl></div><div class='xr-var-data'><pre>array([[[           nan]],\n",
       "\n",
       "       [[           nan]],\n",
       "\n",
       "       [[           nan]],\n",
       "\n",
       "       [[           nan]],\n",
       "\n",
       "       [[           nan]],\n",
       "\n",
       "       [[0.00000000e+00]],\n",
       "\n",
       "       [[1.09144875e-02]],\n",
       "\n",
       "       [[3.07478906e-02]],\n",
       "\n",
       "       [[1.11831439e-02]],\n",
       "\n",
       "       [[1.76042996e-02]],\n",
       "\n",
       "...\n",
       "\n",
       "       [[7.79515400e+03]],\n",
       "\n",
       "       [[8.71381599e+03]],\n",
       "\n",
       "       [[9.72636297e+03]],\n",
       "\n",
       "       [[1.06052354e+04]],\n",
       "\n",
       "       [[1.13834784e+04]],\n",
       "\n",
       "       [[1.47678136e+04]],\n",
       "\n",
       "       [[           nan]],\n",
       "\n",
       "       [[           nan]],\n",
       "\n",
       "       [[           nan]],\n",
       "\n",
       "       [[           nan]]])</pre></div></li><li class='xr-var-item'><div class='xr-var-name'><span>I_LE</span></div><div class='xr-var-dims'>(model, time, lat, lon)</div><div class='xr-var-dtype'>float64</div><div class='xr-var-preview xr-preview'>nan nan nan nan ... nan nan nan nan</div><input id='attrs-0f324a4d-103b-4941-a9e0-e78a48a28af4' class='xr-var-attrs-in' type='checkbox' disabled><label for='attrs-0f324a4d-103b-4941-a9e0-e78a48a28af4' title='Show/Hide attributes'><svg class='icon xr-icon-file-text2'><use xlink:href='#icon-file-text2'></use></svg></label><input id='data-795b6f2f-0a54-4a84-bc85-2211fadaaf64' class='xr-var-data-in' type='checkbox'><label for='data-795b6f2f-0a54-4a84-bc85-2211fadaaf64' title='Show/Hide data repr'><svg class='icon xr-icon-database'><use xlink:href='#icon-database'></use></svg></label><div class='xr-var-attrs'><dl class='xr-attrs'></dl></div><div class='xr-var-data'><pre>array([[[[           nan]],\n",
       "\n",
       "        [[           nan]],\n",
       "\n",
       "        [[           nan]],\n",
       "\n",
       "        [[           nan]],\n",
       "\n",
       "        [[           nan]],\n",
       "\n",
       "        [[3.76000000e+00]],\n",
       "\n",
       "        [[3.23360000e+00]],\n",
       "\n",
       "        [[2.42760000e+00]],\n",
       "\n",
       "        [[2.44040000e+00]],\n",
       "\n",
       "        [[2.85640000e+00]],\n",
       "\n",
       "...\n",
       "\n",
       "        [[2.11834958e+03]],\n",
       "\n",
       "        [[2.61745303e+03]],\n",
       "\n",
       "        [[2.65377438e+03]],\n",
       "\n",
       "        [[2.61876011e+03]],\n",
       "\n",
       "        [[2.82218817e+03]],\n",
       "\n",
       "        [[3.00765993e+03]],\n",
       "\n",
       "        [[           nan]],\n",
       "\n",
       "        [[           nan]],\n",
       "\n",
       "        [[           nan]],\n",
       "\n",
       "        [[           nan]]]])</pre></div></li><li class='xr-var-item'><div class='xr-var-name'><span>Ibar_LE</span></div><div class='xr-var-dims'>(time, lat, lon)</div><div class='xr-var-dtype'>float64</div><div class='xr-var-preview xr-preview'>nan nan nan nan ... nan nan nan nan</div><input id='attrs-620db251-0b53-401f-a957-4285bf6a5f9f' class='xr-var-attrs-in' type='checkbox' disabled><label for='attrs-620db251-0b53-401f-a957-4285bf6a5f9f' title='Show/Hide attributes'><svg class='icon xr-icon-file-text2'><use xlink:href='#icon-file-text2'></use></svg></label><input id='data-7a011f30-35ea-4b6f-a6df-cb0aed6f3f4c' class='xr-var-data-in' type='checkbox'><label for='data-7a011f30-35ea-4b6f-a6df-cb0aed6f3f4c' title='Show/Hide data repr'><svg class='icon xr-icon-database'><use xlink:href='#icon-database'></use></svg></label><div class='xr-var-attrs'><dl class='xr-attrs'></dl></div><div class='xr-var-data'><pre>array([[[          nan]],\n",
       "\n",
       "       [[          nan]],\n",
       "\n",
       "       [[          nan]],\n",
       "\n",
       "       [[          nan]],\n",
       "\n",
       "       [[          nan]],\n",
       "\n",
       "       [[   2.01371429]],\n",
       "\n",
       "       [[   2.01119724]],\n",
       "\n",
       "       [[   1.90305617]],\n",
       "\n",
       "       [[   1.80281969]],\n",
       "\n",
       "       [[   2.10628773]],\n",
       "\n",
       "...\n",
       "\n",
       "       [[1208.82403177]],\n",
       "\n",
       "       [[1371.52156642]],\n",
       "\n",
       "       [[1320.65405515]],\n",
       "\n",
       "       [[1259.0932964 ]],\n",
       "\n",
       "       [[1379.81318877]],\n",
       "\n",
       "       [[1434.84868216]],\n",
       "\n",
       "       [[          nan]],\n",
       "\n",
       "       [[          nan]],\n",
       "\n",
       "       [[          nan]],\n",
       "\n",
       "       [[          nan]]])</pre></div></li><li class='xr-var-item'><div class='xr-var-name'><span>T_LE</span></div><div class='xr-var-dims'>(time, lat, lon)</div><div class='xr-var-dtype'>float64</div><div class='xr-var-preview xr-preview'>nan nan nan nan ... nan nan nan nan</div><input id='attrs-b196d2db-38a4-4b23-9261-1dce3cb66751' class='xr-var-attrs-in' type='checkbox' disabled><label for='attrs-b196d2db-38a4-4b23-9261-1dce3cb66751' title='Show/Hide attributes'><svg class='icon xr-icon-file-text2'><use xlink:href='#icon-file-text2'></use></svg></label><input id='data-b7767a26-1d46-41e5-a478-50071ebbf877' class='xr-var-data-in' type='checkbox'><label for='data-b7767a26-1d46-41e5-a478-50071ebbf877' title='Show/Hide data repr'><svg class='icon xr-icon-database'><use xlink:href='#icon-database'></use></svg></label><div class='xr-var-attrs'><dl class='xr-attrs'></dl></div><div class='xr-var-data'><pre>array([[[           nan]],\n",
       "\n",
       "       [[           nan]],\n",
       "\n",
       "       [[           nan]],\n",
       "\n",
       "       [[           nan]],\n",
       "\n",
       "       [[           nan]],\n",
       "\n",
       "       [[2.21818182e+00]],\n",
       "\n",
       "       [[2.23705621e+00]],\n",
       "\n",
       "       [[2.13551683e+00]],\n",
       "\n",
       "       [[1.99239553e+00]],\n",
       "\n",
       "       [[2.25848280e+00]],\n",
       "\n",
       "...\n",
       "\n",
       "       [[1.03877039e+04]],\n",
       "\n",
       "       [[1.16980678e+04]],\n",
       "\n",
       "       [[1.29077537e+04]],\n",
       "\n",
       "       [[1.37761175e+04]],\n",
       "\n",
       "       [[1.48572398e+04]],\n",
       "\n",
       "       [[1.87196904e+04]],\n",
       "\n",
       "       [[           nan]],\n",
       "\n",
       "       [[           nan]],\n",
       "\n",
       "       [[           nan]],\n",
       "\n",
       "       [[           nan]]])</pre></div></li></ul></div></li><li class='xr-section-item'><input id='section-6f353b17-f226-46c5-b28e-f23ddc405b61' class='xr-section-summary-in' type='checkbox' disabled ><label for='section-6f353b17-f226-46c5-b28e-f23ddc405b61' class='xr-section-summary'  title='Expand/collapse section'>Attributes: <span>(0)</span></label><div class='xr-section-inline-details'></div><div class='xr-section-details'><dl class='xr-attrs'></dl></div></li></ul></div></div>"
      ],
      "text/plain": [
       "<xarray.Dataset>\n",
       "Dimensions:   (time: 96, lat: 1, lon: 1, model: 5)\n",
       "Coordinates:\n",
       "  * time      (time) datetime64[ns] 2005-01-01 2006-01-01 ... 2100-01-01\n",
       "  * lat       (lat) float64 -25.0\n",
       "  * lon       (lon) float64 132.5\n",
       "  * model     (model) <U13 'MIROC6' 'cesm_lens' ... 'MPI-ESM1-2-LR' 'EC-Earth3'\n",
       "    quantile  (model) float64 0.9997 0.9997 0.9997 0.9997 0.9997\n",
       "    q_values  (model, lat, lon) float64 331.4 315.7 326.0 318.8 318.8\n",
       "Data variables:\n",
       "    M_LE      (time, lat, lon) float64 nan nan nan nan nan ... nan nan nan nan\n",
       "    I_LE      (model, time, lat, lon) float64 nan nan nan nan ... nan nan nan\n",
       "    Ibar_LE   (time, lat, lon) float64 nan nan nan nan nan ... nan nan nan nan\n",
       "    T_LE      (time, lat, lon) float64 nan nan nan nan nan ... nan nan nan nan"
      ]
     },
     "execution_count": 10,
     "metadata": {},
     "output_type": "execute_result"
    }
   ],
   "source": [
    "mmle.results"
   ]
  },
  {
   "cell_type": "code",
   "execution_count": 13,
   "id": "3c230867",
   "metadata": {
    "Collapsed": "false"
   },
   "outputs": [
    {
     "data": {
      "text/plain": [
       "[<matplotlib.lines.Line2D at 0x7f4a20b74b80>,\n",
       " <matplotlib.lines.Line2D at 0x7f4a20b74c40>,\n",
       " <matplotlib.lines.Line2D at 0x7f4a20b74d00>,\n",
       " <matplotlib.lines.Line2D at 0x7f4a20b74e20>,\n",
       " <matplotlib.lines.Line2D at 0x7f4a20b74f40>]"
      ]
     },
     "execution_count": 13,
     "metadata": {},
     "output_type": "execute_result"
    },
    {
     "data": {
      "image/png": "[encoded data removed]",
      "text/plain": [
       "<Figure size 432x288 with 1 Axes>"
      ]
     },
     "metadata": {
      "needs_background": "light"
     },
     "output_type": "display_data"
    }
   ],
   "source": [
    "mmle.x.mean('member_id').isel(lat=0, lon=0).plot(hue='model')\n",
    "mmle_qdm.x.mean('member_id').isel(lat=0, lon=0).plot(hue='model')"
   ]
  },
  {
   "cell_type": "code",
   "execution_count": 14,
   "id": "0394d0f4",
   "metadata": {},
   "outputs": [],
   "source": [
    "from src.post_p_large_ensemble import qdm_large_ensemble\n",
    "era2cmip = {\n",
    "    't2m': 'tas',\n",
    "    't2m_max': 'tasmax',\n",
    "    't2m_min': 'tasmin',\n",
    "    'tp': 'pr',\n",
    "    'huss': 'huss',  # Specific humidity does not exist in ERA, so just mapping CMIP to CMIP\n",
    "    # 'd2m': 'tdps',\n",
    "    'ws': 'sfcWind',\n",
    "    'sm': 'mrsos'  # https://agupubs.onlinelibrary.wiley.com/doi/epdf/10.1029/2020GL089991\n",
    "}\n",
    "\n",
    "cmip2era = {v: k for k, v in era2cmip.items()}"
   ]
  },
  {
   "cell_type": "code",
   "execution_count": 15,
   "id": "7b622030",
   "metadata": {
    "Collapsed": "false"
   },
   "outputs": [],
   "source": [
    "variable = 'tasmax'\n",
    "region = 'australia'\n",
    "path = f'gcs://climateai_data_repository/tmp/internal_variability/era_files/{region}/reanalysis_daily.zarr'\n",
    "reanalysis_daily = xr.open_zarr(path, consolidated=True).load()\n"
   ]
  },
  {
   "cell_type": "code",
   "execution_count": 18,
   "id": "cec8d8d2",
   "metadata": {},
   "outputs": [],
   "source": [
    "reanalysis_daily[cmip2era[variable]]+=273.15"
   ]
  },
  {
   "cell_type": "code",
   "execution_count": 19,
   "id": "d98e8605",
   "metadata": {
    "Collapsed": "false"
   },
   "outputs": [
    {
     "name": "stdout",
     "output_type": "stream",
     "text": [
      "CanESM5 has been post-processed\n",
      "EC-Earth3 has been post-processed\n",
      "MIROC6 has been post-processed\n",
      "MPI-ESM1-2-LR has been post-processed\n",
      "cesm_lens has been post-processed\n"
     ]
    }
   ],
   "source": [
    "\n",
    "large_ens_hist = qdm_large_ensemble(\n",
    "    mmle.hist_dsets,\n",
    "    mmle.hist_dsets,\n",
    "    reanalysis_daily[cmip2era[variable]]\n",
    ")"
   ]
  },
  {
   "cell_type": "code",
   "execution_count": 15,
   "id": "9ac2e3c4",
   "metadata": {},
   "outputs": [
    {
     "data": {
      "text/plain": [
       "[<matplotlib.lines.Line2D at 0x7f4a05989700>]"
      ]
     },
     "execution_count": 15,
     "metadata": {},
     "output_type": "execute_result"
    },
    {
     "data": {
      "image/png": "[encoded data removed]",
      "text/plain": [
       "<Figure size 432x288 with 1 Axes>"
      ]
     },
     "metadata": {
      "needs_background": "light"
     },
     "output_type": "display_data"
    }
   ],
   "source": [
    "mmle.x.mean('member_id').isel(lat=0, lon=0).sel(model='CanESM5').sel(time=slice(None, '2020')).plot()\n",
    "mmle_qdm.x.mean('member_id').isel(lat=0, lon=0).sel(model='CanESM5').sel(time=slice(None, '2020')).plot()"
   ]
  },
  {
   "cell_type": "code",
   "execution_count": 22,
   "id": "e2df2392",
   "metadata": {},
   "outputs": [
    {
     "data": {
      "text/plain": [
       "[<matplotlib.lines.Line2D at 0x7f152824b490>]"
      ]
     },
     "execution_count": 22,
     "metadata": {},
     "output_type": "execute_result"
    },
    {
     "data": {
      "image/png": "[encoded data removed]",
      "text/plain": [
       "<Figure size 432x288 with 1 Axes>"
      ]
     },
     "metadata": {
      "needs_background": "light"
     },
     "output_type": "display_data"
    }
   ],
   "source": [
    "(mmle_qdm.future_dsets['CanESM5'].load()>mmle_qdm.hist_dsets['CanESM5'].load().quantile(0.99, ('time'))).resample(time='AS').sum().mean('member_id').plot(color='blue')\n",
    "(mmle.future_dsets['CanESM5'].load()>mmle.hist_dsets['CanESM5'].load().quantile(0.99, ('time'))).resample(time='AS').sum().mean('member_id').plot(color='orange')"
   ]
  },
  {
   "cell_type": "code",
   "execution_count": 29,
   "id": "28d5325c",
   "metadata": {},
   "outputs": [
    {
     "data": {
      "text/plain": [
       "[<matplotlib.lines.Line2D at 0x7f1529f7da90>]"
      ]
     },
     "execution_count": 29,
     "metadata": {},
     "output_type": "execute_result"
    },
    {
     "data": {
      "image/png": "[encoded data removed]",
      "text/plain": [
       "<Figure size 432x288 with 1 Axes>"
      ]
     },
     "metadata": {
      "needs_background": "light"
     },
     "output_type": "display_data"
    }
   ],
   "source": [
    "(mmle_qdm.hist_dsets['CanESM5'].load()>mmle_qdm.hist_dsets['CanESM5'].sel(time=slice('1979', '2010')).load().quantile(0.99, ('time'))).resample(time='AS').sum().mean('member_id').plot(color='blue')\n",
    "(mmle.hist_dsets['CanESM5'].load()>mmle.hist_dsets['CanESM5'].sel(time=slice('1979', '2010')).load().quantile(0.99, ('time'))).resample(time='AS').sum().mean('member_id').plot(color='orange')"
   ]
  },
  {
   "cell_type": "code",
   "execution_count": 27,
   "id": "22dcec2a",
   "metadata": {},
   "outputs": [
    {
     "data": {
      "text/plain": [
       "[<matplotlib.lines.Line2D at 0x7f152a994130>]"
      ]
     },
     "execution_count": 27,
     "metadata": {},
     "output_type": "execute_result"
    },
    {
     "data": {
      "image/png": "[encoded data removed]",
      "text/plain": [
       "<Figure size 432x288 with 1 Axes>"
      ]
     },
     "metadata": {
      "needs_background": "light"
     },
     "output_type": "display_data"
    }
   ],
   "source": [
    "\n",
    "(mmle_qdm.hist_dsets['cesm_lens'].load()>mmle_qdm.hist_dsets['cesm_lens'].sel(time=slice('2000', '2010')).load().quantile(0.99, ('time'))).resample(time='AS').sum().mean('member_id').plot(color='blue')\n",
    "(mmle.hist_dsets['cesm_lens'].load()>mmle.hist_dsets['cesm_lens'].sel(time=slice('2000', '2010')).load().quantile(0.99, ('time'))).resample(time='AS').sum().mean('member_id').plot(color='orange')\n",
    "\n",
    "(mmle_qdm.future_dsets['cesm_lens'].load()>mmle_qdm.hist_dsets['cesm_lens'].sel(time=slice('2000', '2010')).load().quantile(0.99, ('time'))).resample(time='AS').sum().mean('member_id').plot(color='blue')\n",
    "(mmle.future_dsets['cesm_lens'].load()>mmle.hist_dsets['cesm_lens'].sel(time=slice('2000', '2010')).load().quantile(0.99, ('time'))).resample(time='AS').sum().mean('member_id').plot(color='orange')"
   ]
  },
  {
   "cell_type": "code",
   "execution_count": null,
   "id": "c3e2cebd",
   "metadata": {},
   "outputs": [],
   "source": [
    "\n",
    "mmle_qdm.hist_dsets['MIROC6'].quantile(0.99, ('time'))).resample(time='AS').sum().mean('member_id').plot(color='blue')\n",
    "mmle.hist_dsets['MIROC6'].quantile(0.99, ('time'))).resample(time='AS').sum().mean('member_id').plot(color='orange')"
   ]
  },
  {
   "cell_type": "code",
   "execution_count": 40,
   "id": "25409e03",
   "metadata": {},
   "outputs": [
    {
     "data": {
      "text/plain": [
       "[<matplotlib.lines.Line2D at 0x7fd54b7514f0>,\n",
       " <matplotlib.lines.Line2D at 0x7fd54b7514c0>,\n",
       " <matplotlib.lines.Line2D at 0x7fd54b751610>,\n",
       " <matplotlib.lines.Line2D at 0x7fd54b751730>,\n",
       " <matplotlib.lines.Line2D at 0x7fd54b751850>,\n",
       " <matplotlib.lines.Line2D at 0x7fd54b751970>,\n",
       " <matplotlib.lines.Line2D at 0x7fd54b751a90>,\n",
       " <matplotlib.lines.Line2D at 0x7fd54b751bb0>,\n",
       " <matplotlib.lines.Line2D at 0x7fd54b751cd0>,\n",
       " <matplotlib.lines.Line2D at 0x7fd54b751df0>,\n",
       " <matplotlib.lines.Line2D at 0x7fd54b751f10>,\n",
       " <matplotlib.lines.Line2D at 0x7fd54b74c070>,\n",
       " <matplotlib.lines.Line2D at 0x7fd54b74c190>,\n",
       " <matplotlib.lines.Line2D at 0x7fd54b74c2b0>,\n",
       " <matplotlib.lines.Line2D at 0x7fd54b74c3d0>,\n",
       " <matplotlib.lines.Line2D at 0x7fd54b74c4f0>,\n",
       " <matplotlib.lines.Line2D at 0x7fd54b751070>,\n",
       " <matplotlib.lines.Line2D at 0x7fd54b751160>,\n",
       " <matplotlib.lines.Line2D at 0x7fd54b758df0>,\n",
       " <matplotlib.lines.Line2D at 0x7fd54b758bb0>,\n",
       " <matplotlib.lines.Line2D at 0x7fd54b758940>,\n",
       " <matplotlib.lines.Line2D at 0x7fd54b758580>,\n",
       " <matplotlib.lines.Line2D at 0x7fd54b758280>,\n",
       " <matplotlib.lines.Line2D at 0x7fd54b8a1c70>,\n",
       " <matplotlib.lines.Line2D at 0x7fd54b7643d0>,\n",
       " <matplotlib.lines.Line2D at 0x7fd54b764b50>,\n",
       " <matplotlib.lines.Line2D at 0x7fd54b75f580>,\n",
       " <matplotlib.lines.Line2D at 0x7fd54b74c730>,\n",
       " <matplotlib.lines.Line2D at 0x7fd54b74c850>,\n",
       " <matplotlib.lines.Line2D at 0x7fd54b74c970>,\n",
       " <matplotlib.lines.Line2D at 0x7fd54b74ca90>,\n",
       " <matplotlib.lines.Line2D at 0x7fd54b74cbb0>,\n",
       " <matplotlib.lines.Line2D at 0x7fd54b74ccd0>,\n",
       " <matplotlib.lines.Line2D at 0x7fd54b74cdf0>,\n",
       " <matplotlib.lines.Line2D at 0x7fd54b74cf10>,\n",
       " <matplotlib.lines.Line2D at 0x7fd54b744070>,\n",
       " <matplotlib.lines.Line2D at 0x7fd54b744190>,\n",
       " <matplotlib.lines.Line2D at 0x7fd54b7442b0>,\n",
       " <matplotlib.lines.Line2D at 0x7fd54b7443d0>,\n",
       " <matplotlib.lines.Line2D at 0x7fd54b7444f0>,\n",
       " <matplotlib.lines.Line2D at 0x7fd54b744610>,\n",
       " <matplotlib.lines.Line2D at 0x7fd54b744730>,\n",
       " <matplotlib.lines.Line2D at 0x7fd54b744850>,\n",
       " <matplotlib.lines.Line2D at 0x7fd54b744970>,\n",
       " <matplotlib.lines.Line2D at 0x7fd54b744a90>,\n",
       " <matplotlib.lines.Line2D at 0x7fd54b744bb0>,\n",
       " <matplotlib.lines.Line2D at 0x7fd54b744cd0>,\n",
       " <matplotlib.lines.Line2D at 0x7fd54b744df0>,\n",
       " <matplotlib.lines.Line2D at 0x7fd54b744f10>,\n",
       " <matplotlib.lines.Line2D at 0x7fd54b77e070>,\n",
       " <matplotlib.lines.Line2D at 0x7fd54b77e190>,\n",
       " <matplotlib.lines.Line2D at 0x7fd54b77e2b0>,\n",
       " <matplotlib.lines.Line2D at 0x7fd54b77e3d0>,\n",
       " <matplotlib.lines.Line2D at 0x7fd54b77e4f0>,\n",
       " <matplotlib.lines.Line2D at 0x7fd54b77e610>,\n",
       " <matplotlib.lines.Line2D at 0x7fd54b77e730>,\n",
       " <matplotlib.lines.Line2D at 0x7fd54b77e850>,\n",
       " <matplotlib.lines.Line2D at 0x7fd54b77e970>,\n",
       " <matplotlib.lines.Line2D at 0x7fd54b77ea90>,\n",
       " <matplotlib.lines.Line2D at 0x7fd54b77ebb0>,\n",
       " <matplotlib.lines.Line2D at 0x7fd54b77ecd0>,\n",
       " <matplotlib.lines.Line2D at 0x7fd54b77edf0>,\n",
       " <matplotlib.lines.Line2D at 0x7fd54b77ef10>,\n",
       " <matplotlib.lines.Line2D at 0x7fd54b777070>,\n",
       " <matplotlib.lines.Line2D at 0x7fd54b777190>,\n",
       " <matplotlib.lines.Line2D at 0x7fd54b7772b0>,\n",
       " <matplotlib.lines.Line2D at 0x7fd54b7773d0>,\n",
       " <matplotlib.lines.Line2D at 0x7fd54b7774f0>,\n",
       " <matplotlib.lines.Line2D at 0x7fd54b777610>,\n",
       " <matplotlib.lines.Line2D at 0x7fd54b777730>]"
      ]
     },
     "execution_count": 40,
     "metadata": {},
     "output_type": "execute_result"
    },
    {
     "data": {
      "image/png": "[encoded data removed]",
      "text/plain": [
       "<Figure size 432x288 with 1 Axes>"
      ]
     },
     "metadata": {
      "needs_background": "light"
     },
     "output_type": "display_data"
    }
   ],
   "source": [
    "mmle.x.sel(model = 'CanESM5').isel(lat=0, lon=0).plot(hue='member_id')\n",
    "mmle_qdm.x.sel(model = 'CanESM5').isel(lat=0, lon=0).plot(hue='member_id')\n"
   ]
  },
  {
   "cell_type": "code",
   "execution_count": 17,
   "id": "d7ff0036",
   "metadata": {},
   "outputs": [
    {
     "data": {
      "text/html": [
       "<div><svg style=\"position: absolute; width: 0; height: 0; overflow: hidden\">\n",
       "<defs>\n",
       "<symbol id=\"icon-database\" viewBox=\"0 0 32 32\">\n",
       "<path d=\"M16 0c-8.837 0-16 2.239-16 5v4c0 2.761 7.163 5 16 5s16-2.239 16-5v-4c0-2.761-7.163-5-16-5z\"></path>\n",
       "<path d=\"M16 17c-8.837 0-16-2.239-16-5v6c0 2.761 7.163 5 16 5s16-2.239 16-5v-6c0 2.761-7.163 5-16 5z\"></path>\n",
       "<path d=\"M16 26c-8.837 0-16-2.239-16-5v6c0 2.761 7.163 5 16 5s16-2.239 16-5v-6c0 2.761-7.163 5-16 5z\"></path>\n",
       "</symbol>\n",
       "<symbol id=\"icon-file-text2\" viewBox=\"0 0 32 32\">\n",
       "<path d=\"M28.681 7.159c-0.694-0.947-1.662-2.053-2.724-3.116s-2.169-2.030-3.116-2.724c-1.612-1.182-2.393-1.319-2.841-1.319h-15.5c-1.378 0-2.5 1.121-2.5 2.5v27c0 1.378 1.122 2.5 2.5 2.5h23c1.378 0 2.5-1.122 2.5-2.5v-19.5c0-0.448-0.137-1.23-1.319-2.841zM24.543 5.457c0.959 0.959 1.712 1.825 2.268 2.543h-4.811v-4.811c0.718 0.556 1.584 1.309 2.543 2.268zM28 29.5c0 0.271-0.229 0.5-0.5 0.5h-23c-0.271 0-0.5-0.229-0.5-0.5v-27c0-0.271 0.229-0.5 0.5-0.5 0 0 15.499-0 15.5 0v7c0 0.552 0.448 1 1 1h7v19.5z\"></path>\n",
       "<path d=\"M23 26h-14c-0.552 0-1-0.448-1-1s0.448-1 1-1h14c0.552 0 1 0.448 1 1s-0.448 1-1 1z\"></path>\n",
       "<path d=\"M23 22h-14c-0.552 0-1-0.448-1-1s0.448-1 1-1h14c0.552 0 1 0.448 1 1s-0.448 1-1 1z\"></path>\n",
       "<path d=\"M23 18h-14c-0.552 0-1-0.448-1-1s0.448-1 1-1h14c0.552 0 1 0.448 1 1s-0.448 1-1 1z\"></path>\n",
       "</symbol>\n",
       "</defs>\n",
       "</svg>\n",
       "<style>/* CSS stylesheet for displaying xarray objects in jupyterlab.\n",
       " *\n",
       " */\n",
       "\n",
       ":root {\n",
       "  --xr-font-color0: var(--jp-content-font-color0, rgba(0, 0, 0, 1));\n",
       "  --xr-font-color2: var(--jp-content-font-color2, rgba(0, 0, 0, 0.54));\n",
       "  --xr-font-color3: var(--jp-content-font-color3, rgba(0, 0, 0, 0.38));\n",
       "  --xr-border-color: var(--jp-border-color2, #e0e0e0);\n",
       "  --xr-disabled-color: var(--jp-layout-color3, #bdbdbd);\n",
       "  --xr-background-color: var(--jp-layout-color0, white);\n",
       "  --xr-background-color-row-even: var(--jp-layout-color1, white);\n",
       "  --xr-background-color-row-odd: var(--jp-layout-color2, #eeeeee);\n",
       "}\n",
       "\n",
       "html[theme=dark],\n",
       "body.vscode-dark {\n",
       "  --xr-font-color0: rgba(255, 255, 255, 1);\n",
       "  --xr-font-color2: rgba(255, 255, 255, 0.54);\n",
       "  --xr-font-color3: rgba(255, 255, 255, 0.38);\n",
       "  --xr-border-color: #1F1F1F;\n",
       "  --xr-disabled-color: #515151;\n",
       "  --xr-background-color: #111111;\n",
       "  --xr-background-color-row-even: #111111;\n",
       "  --xr-background-color-row-odd: #313131;\n",
       "}\n",
       "\n",
       ".xr-wrap {\n",
       "  display: block !important;\n",
       "  min-width: 300px;\n",
       "  max-width: 700px;\n",
       "}\n",
       "\n",
       ".xr-text-repr-fallback {\n",
       "  /* fallback to plain text repr when CSS is not injected (untrusted notebook) */\n",
       "  display: none;\n",
       "}\n",
       "\n",
       ".xr-header {\n",
       "  padding-top: 6px;\n",
       "  padding-bottom: 6px;\n",
       "  margin-bottom: 4px;\n",
       "  border-bottom: solid 1px var(--xr-border-color);\n",
       "}\n",
       "\n",
       ".xr-header > div,\n",
       ".xr-header > ul {\n",
       "  display: inline;\n",
       "  margin-top: 0;\n",
       "  margin-bottom: 0;\n",
       "}\n",
       "\n",
       ".xr-obj-type,\n",
       ".xr-array-name {\n",
       "  margin-left: 2px;\n",
       "  margin-right: 10px;\n",
       "}\n",
       "\n",
       ".xr-obj-type {\n",
       "  color: var(--xr-font-color2);\n",
       "}\n",
       "\n",
       ".xr-sections {\n",
       "  padding-left: 0 !important;\n",
       "  display: grid;\n",
       "  grid-template-columns: 150px auto auto 1fr 20px 20px;\n",
       "}\n",
       "\n",
       ".xr-section-item {\n",
       "  display: contents;\n",
       "}\n",
       "\n",
       ".xr-section-item input {\n",
       "  display: none;\n",
       "}\n",
       "\n",
       ".xr-section-item input + label {\n",
       "  color: var(--xr-disabled-color);\n",
       "}\n",
       "\n",
       ".xr-section-item input:enabled + label {\n",
       "  cursor: pointer;\n",
       "  color: var(--xr-font-color2);\n",
       "}\n",
       "\n",
       ".xr-section-item input:enabled + label:hover {\n",
       "  color: var(--xr-font-color0);\n",
       "}\n",
       "\n",
       ".xr-section-summary {\n",
       "  grid-column: 1;\n",
       "  color: var(--xr-font-color2);\n",
       "  font-weight: 500;\n",
       "}\n",
       "\n",
       ".xr-section-summary > span {\n",
       "  display: inline-block;\n",
       "  padding-left: 0.5em;\n",
       "}\n",
       "\n",
       ".xr-section-summary-in:disabled + label {\n",
       "  color: var(--xr-font-color2);\n",
       "}\n",
       "\n",
       ".xr-section-summary-in + label:before {\n",
       "  display: inline-block;\n",
       "  content: '►';\n",
       "  font-size: 11px;\n",
       "  width: 15px;\n",
       "  text-align: center;\n",
       "}\n",
       "\n",
       ".xr-section-summary-in:disabled + label:before {\n",
       "  color: var(--xr-disabled-color);\n",
       "}\n",
       "\n",
       ".xr-section-summary-in:checked + label:before {\n",
       "  content: '▼';\n",
       "}\n",
       "\n",
       ".xr-section-summary-in:checked + label > span {\n",
       "  display: none;\n",
       "}\n",
       "\n",
       ".xr-section-summary,\n",
       ".xr-section-inline-details {\n",
       "  padding-top: 4px;\n",
       "  padding-bottom: 4px;\n",
       "}\n",
       "\n",
       ".xr-section-inline-details {\n",
       "  grid-column: 2 / -1;\n",
       "}\n",
       "\n",
       ".xr-section-details {\n",
       "  display: none;\n",
       "  grid-column: 1 / -1;\n",
       "  margin-bottom: 5px;\n",
       "}\n",
       "\n",
       ".xr-section-summary-in:checked ~ .xr-section-details {\n",
       "  display: contents;\n",
       "}\n",
       "\n",
       ".xr-array-wrap {\n",
       "  grid-column: 1 / -1;\n",
       "  display: grid;\n",
       "  grid-template-columns: 20px auto;\n",
       "}\n",
       "\n",
       ".xr-array-wrap > label {\n",
       "  grid-column: 1;\n",
       "  vertical-align: top;\n",
       "}\n",
       "\n",
       ".xr-preview {\n",
       "  color: var(--xr-font-color3);\n",
       "}\n",
       "\n",
       ".xr-array-preview,\n",
       ".xr-array-data {\n",
       "  padding: 0 5px !important;\n",
       "  grid-column: 2;\n",
       "}\n",
       "\n",
       ".xr-array-data,\n",
       ".xr-array-in:checked ~ .xr-array-preview {\n",
       "  display: none;\n",
       "}\n",
       "\n",
       ".xr-array-in:checked ~ .xr-array-data,\n",
       ".xr-array-preview {\n",
       "  display: inline-block;\n",
       "}\n",
       "\n",
       ".xr-dim-list {\n",
       "  display: inline-block !important;\n",
       "  list-style: none;\n",
       "  padding: 0 !important;\n",
       "  margin: 0;\n",
       "}\n",
       "\n",
       ".xr-dim-list li {\n",
       "  display: inline-block;\n",
       "  padding: 0;\n",
       "  margin: 0;\n",
       "}\n",
       "\n",
       ".xr-dim-list:before {\n",
       "  content: '(';\n",
       "}\n",
       "\n",
       ".xr-dim-list:after {\n",
       "  content: ')';\n",
       "}\n",
       "\n",
       ".xr-dim-list li:not(:last-child):after {\n",
       "  content: ',';\n",
       "  padding-right: 5px;\n",
       "}\n",
       "\n",
       ".xr-has-index {\n",
       "  font-weight: bold;\n",
       "}\n",
       "\n",
       ".xr-var-list,\n",
       ".xr-var-item {\n",
       "  display: contents;\n",
       "}\n",
       "\n",
       ".xr-var-item > div,\n",
       ".xr-var-item label,\n",
       ".xr-var-item > .xr-var-name span {\n",
       "  background-color: var(--xr-background-color-row-even);\n",
       "  margin-bottom: 0;\n",
       "}\n",
       "\n",
       ".xr-var-item > .xr-var-name:hover span {\n",
       "  padding-right: 5px;\n",
       "}\n",
       "\n",
       ".xr-var-list > li:nth-child(odd) > div,\n",
       ".xr-var-list > li:nth-child(odd) > label,\n",
       ".xr-var-list > li:nth-child(odd) > .xr-var-name span {\n",
       "  background-color: var(--xr-background-color-row-odd);\n",
       "}\n",
       "\n",
       ".xr-var-name {\n",
       "  grid-column: 1;\n",
       "}\n",
       "\n",
       ".xr-var-dims {\n",
       "  grid-column: 2;\n",
       "}\n",
       "\n",
       ".xr-var-dtype {\n",
       "  grid-column: 3;\n",
       "  text-align: right;\n",
       "  color: var(--xr-font-color2);\n",
       "}\n",
       "\n",
       ".xr-var-preview {\n",
       "  grid-column: 4;\n",
       "}\n",
       "\n",
       ".xr-var-name,\n",
       ".xr-var-dims,\n",
       ".xr-var-dtype,\n",
       ".xr-preview,\n",
       ".xr-attrs dt {\n",
       "  white-space: nowrap;\n",
       "  overflow: hidden;\n",
       "  text-overflow: ellipsis;\n",
       "  padding-right: 10px;\n",
       "}\n",
       "\n",
       ".xr-var-name:hover,\n",
       ".xr-var-dims:hover,\n",
       ".xr-var-dtype:hover,\n",
       ".xr-attrs dt:hover {\n",
       "  overflow: visible;\n",
       "  width: auto;\n",
       "  z-index: 1;\n",
       "}\n",
       "\n",
       ".xr-var-attrs,\n",
       ".xr-var-data {\n",
       "  display: none;\n",
       "  background-color: var(--xr-background-color) !important;\n",
       "  padding-bottom: 5px !important;\n",
       "}\n",
       "\n",
       ".xr-var-attrs-in:checked ~ .xr-var-attrs,\n",
       ".xr-var-data-in:checked ~ .xr-var-data {\n",
       "  display: block;\n",
       "}\n",
       "\n",
       ".xr-var-data > table {\n",
       "  float: right;\n",
       "}\n",
       "\n",
       ".xr-var-name span,\n",
       ".xr-var-data,\n",
       ".xr-attrs {\n",
       "  padding-left: 25px !important;\n",
       "}\n",
       "\n",
       ".xr-attrs,\n",
       ".xr-var-attrs,\n",
       ".xr-var-data {\n",
       "  grid-column: 1 / -1;\n",
       "}\n",
       "\n",
       "dl.xr-attrs {\n",
       "  padding: 0;\n",
       "  margin: 0;\n",
       "  display: grid;\n",
       "  grid-template-columns: 125px auto;\n",
       "}\n",
       "\n",
       ".xr-attrs dt,\n",
       ".xr-attrs dd {\n",
       "  padding: 0;\n",
       "  margin: 0;\n",
       "  float: left;\n",
       "  padding-right: 10px;\n",
       "  width: auto;\n",
       "}\n",
       "\n",
       ".xr-attrs dt {\n",
       "  font-weight: normal;\n",
       "  grid-column: 1;\n",
       "}\n",
       "\n",
       ".xr-attrs dt:hover span {\n",
       "  display: inline-block;\n",
       "  background: var(--xr-background-color);\n",
       "  padding-right: 10px;\n",
       "}\n",
       "\n",
       ".xr-attrs dd {\n",
       "  grid-column: 2;\n",
       "  white-space: pre-wrap;\n",
       "  word-break: break-all;\n",
       "}\n",
       "\n",
       ".xr-icon-database,\n",
       ".xr-icon-file-text2 {\n",
       "  display: inline-block;\n",
       "  vertical-align: middle;\n",
       "  width: 1em;\n",
       "  height: 1.5em !important;\n",
       "  stroke-width: 0;\n",
       "  stroke: currentColor;\n",
       "  fill: currentColor;\n",
       "}\n",
       "</style><pre class='xr-text-repr-fallback'>&lt;xarray.DataArray &#x27;model&#x27; (model: 5)&gt;\n",
       "array([&#x27;MIROC6&#x27;, &#x27;cesm_lens&#x27;, &#x27;CanESM5&#x27;, &#x27;MPI-ESM1-2-LR&#x27;, &#x27;EC-Earth3&#x27;],\n",
       "      dtype=&#x27;&lt;U13&#x27;)\n",
       "Coordinates:\n",
       "  * model    (model) &lt;U13 &#x27;MIROC6&#x27; &#x27;cesm_lens&#x27; ... &#x27;MPI-ESM1-2-LR&#x27; &#x27;EC-Earth3&#x27;</pre><div class='xr-wrap' style='display:none'><div class='xr-header'><div class='xr-obj-type'>xarray.DataArray</div><div class='xr-array-name'>'model'</div><ul class='xr-dim-list'><li><span class='xr-has-index'>model</span>: 5</li></ul></div><ul class='xr-sections'><li class='xr-section-item'><div class='xr-array-wrap'><input id='section-27a3face-16ce-4e7e-9c98-6ba1bcfb77be' class='xr-array-in' type='checkbox' checked><label for='section-27a3face-16ce-4e7e-9c98-6ba1bcfb77be' title='Show/hide data repr'><svg class='icon xr-icon-database'><use xlink:href='#icon-database'></use></svg></label><div class='xr-array-preview xr-preview'><span>&#x27;MIROC6&#x27; &#x27;cesm_lens&#x27; &#x27;CanESM5&#x27; &#x27;MPI-ESM1-2-LR&#x27; &#x27;EC-Earth3&#x27;</span></div><div class='xr-array-data'><pre>array([&#x27;MIROC6&#x27;, &#x27;cesm_lens&#x27;, &#x27;CanESM5&#x27;, &#x27;MPI-ESM1-2-LR&#x27;, &#x27;EC-Earth3&#x27;],\n",
       "      dtype=&#x27;&lt;U13&#x27;)</pre></div></div></li><li class='xr-section-item'><input id='section-59c74349-79d4-46ec-883e-6dbe01c39922' class='xr-section-summary-in' type='checkbox'  checked><label for='section-59c74349-79d4-46ec-883e-6dbe01c39922' class='xr-section-summary' >Coordinates: <span>(1)</span></label><div class='xr-section-inline-details'></div><div class='xr-section-details'><ul class='xr-var-list'><li class='xr-var-item'><div class='xr-var-name'><span class='xr-has-index'>model</span></div><div class='xr-var-dims'>(model)</div><div class='xr-var-dtype'>&lt;U13</div><div class='xr-var-preview xr-preview'>&#x27;MIROC6&#x27; ... &#x27;EC-Earth3&#x27;</div><input id='attrs-ff1701e5-2c13-4c0b-9533-b8bd7f8e41d9' class='xr-var-attrs-in' type='checkbox' disabled><label for='attrs-ff1701e5-2c13-4c0b-9533-b8bd7f8e41d9' title='Show/Hide attributes'><svg class='icon xr-icon-file-text2'><use xlink:href='#icon-file-text2'></use></svg></label><input id='data-c10e81d6-6310-4d12-9db9-c858c9bb3b76' class='xr-var-data-in' type='checkbox'><label for='data-c10e81d6-6310-4d12-9db9-c858c9bb3b76' title='Show/Hide data repr'><svg class='icon xr-icon-database'><use xlink:href='#icon-database'></use></svg></label><div class='xr-var-attrs'><dl class='xr-attrs'></dl></div><div class='xr-var-data'><pre>array([&#x27;MIROC6&#x27;, &#x27;cesm_lens&#x27;, &#x27;CanESM5&#x27;, &#x27;MPI-ESM1-2-LR&#x27;, &#x27;EC-Earth3&#x27;],\n",
       "      dtype=&#x27;&lt;U13&#x27;)</pre></div></li></ul></div></li><li class='xr-section-item'><input id='section-1f799da1-3de4-4174-b0c1-51fc8041cad4' class='xr-section-summary-in' type='checkbox' disabled ><label for='section-1f799da1-3de4-4174-b0c1-51fc8041cad4' class='xr-section-summary'  title='Expand/collapse section'>Attributes: <span>(0)</span></label><div class='xr-section-inline-details'></div><div class='xr-section-details'><dl class='xr-attrs'></dl></div></li></ul></div></div>"
      ],
      "text/plain": [
       "<xarray.DataArray 'model' (model: 5)>\n",
       "array(['MIROC6', 'cesm_lens', 'CanESM5', 'MPI-ESM1-2-LR', 'EC-Earth3'],\n",
       "      dtype='<U13')\n",
       "Coordinates:\n",
       "  * model    (model) <U13 'MIROC6' 'cesm_lens' ... 'MPI-ESM1-2-LR' 'EC-Earth3'"
      ]
     },
     "execution_count": 17,
     "metadata": {},
     "output_type": "execute_result"
    }
   ],
   "source": [
    "mmle_qdm.x.model"
   ]
  },
  {
   "cell_type": "code",
   "execution_count": 15,
   "id": "54b7528e",
   "metadata": {},
   "outputs": [
    {
     "data": {
      "text/plain": [
       "[<matplotlib.lines.Line2D at 0x7f153bc32850>,\n",
       " <matplotlib.lines.Line2D at 0x7f153bc32910>,\n",
       " <matplotlib.lines.Line2D at 0x7f153bc329d0>,\n",
       " <matplotlib.lines.Line2D at 0x7f153bc32af0>,\n",
       " <matplotlib.lines.Line2D at 0x7f153bc32c10>]"
      ]
     },
     "execution_count": 15,
     "metadata": {},
     "output_type": "execute_result"
    },
    {
     "data": {
      "image/png": "[encoded data removed]",
      "text/plain": [
       "<Figure size 432x288 with 1 Axes>"
      ]
     },
     "metadata": {
      "needs_background": "light"
     },
     "output_type": "display_data"
    }
   ],
   "source": [
    "\n",
    "mmle_qdm.x.mean('member_id').sel(time=slice('2000', '2010')).isel(lat=0, lon=0).plot(hue='model', color='orange')\n",
    "mmle.x.mean('member_id').sel(time=slice('2000', '2010')).isel(lat=0, lon=0).plot(hue='model', color='blue')\n"
   ]
  },
  {
   "cell_type": "code",
   "execution_count": 19,
   "id": "ee28f914",
   "metadata": {},
   "outputs": [],
   "source": [
    "path = f'gcs://climateai_data_repository/tmp/internal_variability/era_files/{region}/reanalysis_daily.zarr'\n",
    "reanalysis_daily = xr.open_zarr(path, consolidated=True).load()"
   ]
  },
  {
   "cell_type": "code",
   "execution_count": 20,
   "id": "60c86d3d",
   "metadata": {},
   "outputs": [],
   "source": [
    "reanalysis_daily['t2m_max'] += 273.15"
   ]
  },
  {
   "cell_type": "code",
   "execution_count": 73,
   "id": "d77f74b6",
   "metadata": {},
   "outputs": [
    {
     "data": {
      "image/png": "[encoded data removed]",
      "text/plain": [
       "<Figure size 432x288 with 1 Axes>"
      ]
     },
     "metadata": {
      "needs_background": "light"
     },
     "output_type": "display_data"
    }
   ],
   "source": [
    "mmle_qdm.hist_dsets['MIROC6'].load().resample(time='AS').mean().mean('member_id').plot(color='blue');\n",
    "mmle.hist_dsets['MIROC6'].load().resample(time='AS').mean().mean('member_id').plot(color='red');\n",
    "reanalysis_daily['t2m_max'].resample(time='As').mean().plot(color='green');\n",
    "mmle_qdm.future_dsets['MIROC6'].load().resample(time='AS').mean().mean('member_id').plot(color='blue');\n",
    "mmle.future_dsets['MIROC6'].load().resample(time='AS').mean().mean('member_id').plot(color='red');"
   ]
  },
  {
   "cell_type": "code",
   "execution_count": null,
   "id": "8e1d74a6",
   "metadata": {},
   "outputs": [],
   "source": []
  }
 ],
 "metadata": {
  "environment": {
   "name": "common-cu110.m74",
   "type": "gcloud",
   "uri": "gcr.io/deeplearning-platform-release/base-cu110:m74"
  },
  "kernelspec": {
   "display_name": "Python 3.9.6 ('carla')",
   "language": "python",
   "name": "python3"
  },
  "language_info": {
   "codemirror_mode": {
    "name": "ipython",
    "version": 3
   },
   "file_extension": ".py",
   "mimetype": "text/x-python",
   "name": "python",
   "nbconvert_exporter": "python",
   "pygments_lexer": "ipython3",
   "version": "3.9.6"
  },
  "vscode": {
   "interpreter": {
    "hash": "7e0e609dcaeafe453bc155a261feeebb8ef8b24582897737d7798fde82a9f4da"
   }
  }
 },
 "nbformat": 4,
 "nbformat_minor": 5
}
