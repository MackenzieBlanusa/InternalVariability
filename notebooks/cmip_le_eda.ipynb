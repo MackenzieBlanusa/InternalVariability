{
 "cells": [
  {
   "cell_type": "code",
   "execution_count": 1,
   "id": "c89d615d",
   "metadata": {
    "Collapsed": "false"
   },
   "outputs": [],
   "source": [
    "import intake"
   ]
  },
  {
   "cell_type": "code",
   "execution_count": 6,
   "id": "a7e70e5e",
   "metadata": {
    "Collapsed": "false"
   },
   "outputs": [],
   "source": [
    "url = 'https://storage.googleapis.com/cmip6/pangeo-cmip6.json'\n",
    "raw_cat = intake.open_esm_datastore(url)"
   ]
  },
  {
   "cell_type": "code",
   "execution_count": 9,
   "id": "96197dd9",
   "metadata": {
    "Collapsed": "false"
   },
   "outputs": [],
   "source": [
    "cat = raw_cat.search(\n",
    "    experiment_id='ssp585',\n",
    "    variable_id='tas',\n",
    "    table_id='Amon'\n",
    ")"
   ]
  },
  {
   "cell_type": "code",
   "execution_count": 11,
   "id": "a0426246",
   "metadata": {
    "Collapsed": "false"
   },
   "outputs": [
    {
     "data": {
      "text/plain": [
       "activity_id         1\n",
       "institution_id     31\n",
       "source_id          47\n",
       "experiment_id       1\n",
       "member_id         146\n",
       "table_id            1\n",
       "variable_id         1\n",
       "grid_label          3\n",
       "zstore            326\n",
       "dcpp_init_year      0\n",
       "version            71\n",
       "dtype: int64"
      ]
     },
     "execution_count": 11,
     "metadata": {},
     "output_type": "execute_result"
    }
   ],
   "source": [
    "cat.df.nunique()"
   ]
  },
  {
   "cell_type": "code",
   "execution_count": 24,
   "id": "04895adc",
   "metadata": {
    "Collapsed": "false"
   },
   "outputs": [
    {
     "data": {
      "text/plain": [
       "source_id\n",
       "ACCESS-CM2           5\n",
       "ACCESS-ESM1-5       35\n",
       "AWI-CM-1-1-MR        1\n",
       "BCC-CSM2-MR          1\n",
       "CAMS-CSM1-0          2\n",
       "CAS-ESM2-0           2\n",
       "CESM2                3\n",
       "CESM2-WACCM          5\n",
       "CIESM                1\n",
       "CMCC-CM2-SR5         1\n",
       "CMCC-ESM2            1\n",
       "CNRM-CM6-1           6\n",
       "CNRM-CM6-1-HR        1\n",
       "CNRM-ESM2-1          5\n",
       "CanESM5             50\n",
       "CanESM5-CanOE        3\n",
       "E3SM-1-1             1\n",
       "EC-Earth3           58\n",
       "EC-Earth3-CC         1\n",
       "EC-Earth3-Veg        8\n",
       "EC-Earth3-Veg-LR     3\n",
       "FGOALS-f3-L          1\n",
       "FGOALS-g3            4\n",
       "FIO-ESM-2-0          3\n",
       "GFDL-CM4             1\n",
       "GFDL-ESM4            1\n",
       "GISS-E2-1-G         10\n",
       "GISS-E2-1-H          4\n",
       "HadGEM3-GC31-LL      4\n",
       "HadGEM3-GC31-MM      4\n",
       "IITM-ESM             1\n",
       "INM-CM4-8            1\n",
       "INM-CM5-0            1\n",
       "IPSL-CM6A-LR         6\n",
       "KACE-1-0-G           3\n",
       "KIOST-ESM            1\n",
       "MCM-UA-1-0           1\n",
       "MIROC-ES2L           9\n",
       "MIROC6              50\n",
       "MPI-ESM1-2-HR        2\n",
       "MPI-ESM1-2-LR       10\n",
       "MRI-ESM2-0           6\n",
       "NESM3                2\n",
       "NorESM2-LM           1\n",
       "NorESM2-MM           1\n",
       "TaiESM1              1\n",
       "UKESM1-0-LL          5\n",
       "Name: member_id, dtype: int64"
      ]
     },
     "execution_count": 24,
     "metadata": {},
     "output_type": "execute_result"
    }
   ],
   "source": [
    "cat.df.groupby('source_id').member_id.count()"
   ]
  },
  {
   "cell_type": "markdown",
   "id": "5675ff70",
   "metadata": {
    "Collapsed": "false"
   },
   "source": [
    "6 models with 10+ emsemble members for monthly. This is great, especially if we can also add CESM-LENS. Not quite the ensemble sizes from MMLEA, so there might be a worry that for extremes the sample is too low but that remains to be seen. \n",
    "\n",
    "Let's now check whether this is the same for daily data."
   ]
  },
  {
   "cell_type": "code",
   "execution_count": 32,
   "id": "fa68fe18",
   "metadata": {
    "Collapsed": "false"
   },
   "outputs": [],
   "source": [
    "cat = raw_cat.search(\n",
    "    experiment_id='ssp585',\n",
    "    variable_id='tasmax',\n",
    "    table_id='day'\n",
    ")"
   ]
  },
  {
   "cell_type": "code",
   "execution_count": 33,
   "id": "130e8c3c",
   "metadata": {
    "Collapsed": "false"
   },
   "outputs": [
    {
     "data": {
      "text/plain": [
       "activity_id         1\n",
       "institution_id     24\n",
       "source_id          34\n",
       "experiment_id       1\n",
       "member_id         128\n",
       "table_id            1\n",
       "variable_id         1\n",
       "grid_label          4\n",
       "zstore            241\n",
       "dcpp_init_year      0\n",
       "version            48\n",
       "dtype: int64"
      ]
     },
     "execution_count": 33,
     "metadata": {},
     "output_type": "execute_result"
    }
   ],
   "source": [
    "cat.df.nunique()"
   ]
  },
  {
   "cell_type": "code",
   "execution_count": 34,
   "id": "78c195b2",
   "metadata": {
    "Collapsed": "false"
   },
   "outputs": [
    {
     "data": {
      "text/plain": [
       "source_id\n",
       "ACCESS-CM2           3\n",
       "ACCESS-ESM1-5       10\n",
       "AWI-CM-1-1-MR        1\n",
       "BCC-CSM2-MR          1\n",
       "CAMS-CSM1-0          1\n",
       "CESM2                3\n",
       "CESM2-WACCM          4\n",
       "CMCC-ESM2            1\n",
       "CNRM-CM6-1           1\n",
       "CNRM-CM6-1-HR        1\n",
       "CNRM-ESM2-1          1\n",
       "CanESM5             50\n",
       "EC-Earth3           58\n",
       "EC-Earth3-CC         1\n",
       "EC-Earth3-Veg        8\n",
       "EC-Earth3-Veg-LR     3\n",
       "FGOALS-g3            4\n",
       "GFDL-CM4             2\n",
       "GFDL-ESM4            1\n",
       "INM-CM4-8            1\n",
       "INM-CM5-0            1\n",
       "IPSL-CM6A-LR         6\n",
       "KACE-1-0-G           3\n",
       "KIOST-ESM            1\n",
       "MIROC-ES2L           1\n",
       "MIROC6              50\n",
       "MPI-ESM1-2-HR        2\n",
       "MPI-ESM1-2-LR       10\n",
       "MRI-ESM2-0           6\n",
       "NESM3                2\n",
       "NorESM2-LM           1\n",
       "NorESM2-MM           1\n",
       "TaiESM1              1\n",
       "UKESM1-0-LL          1\n",
       "Name: member_id, dtype: int64"
      ]
     },
     "execution_count": 34,
     "metadata": {},
     "output_type": "execute_result"
    }
   ],
   "source": [
    "cat.df.groupby('source_id').member_id.count()"
   ]
  },
  {
   "cell_type": "markdown",
   "id": "4953a9e5",
   "metadata": {
    "Collapsed": "false"
   },
   "source": [
    "Now we only have 5, GISS is missing in daily but that's ok, it only had 10 members anyway. pr, tas, tasmax and tasmin are all the same. This is good news. Hurray for cloud data! "
   ]
  },
  {
   "cell_type": "code",
   "execution_count": null,
   "id": "67b84f3d",
   "metadata": {
    "Collapsed": "false"
   },
   "outputs": [],
   "source": []
  }
 ],
 "metadata": {
  "environment": {
   "kernel": "climateai",
   "name": "tf2-gpu.2-3.m92",
   "type": "gcloud",
   "uri": "gcr.io/deeplearning-platform-release/tf2-gpu.2-3:m92"
  },
  "kernelspec": {
   "display_name": "climateai",
   "language": "python",
   "name": "climateai"
  },
  "language_info": {
   "codemirror_mode": {
    "name": "ipython",
    "version": 3
   },
   "file_extension": ".py",
   "mimetype": "text/x-python",
   "name": "python",
   "nbconvert_exporter": "python",
   "pygments_lexer": "ipython3",
   "version": "3.9.6"
  }
 },
 "nbformat": 4,
 "nbformat_minor": 5
}
